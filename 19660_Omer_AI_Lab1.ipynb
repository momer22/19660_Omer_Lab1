{
  "nbformat": 4,
  "nbformat_minor": 0,
  "metadata": {
    "colab": {
      "name": "Untitled0.ipynb",
      "provenance": []
    },
    "kernelspec": {
      "name": "python3",
      "display_name": "Python 3"
    },
    "language_info": {
      "name": "python"
    }
  },
  "cells": [
    {
      "cell_type": "code",
      "execution_count": null,
      "metadata": {
        "id": "S5-dl-pQ2TZf"
      },
      "outputs": [],
      "source": [
        "#2 Array Object and its Attributes \n",
        "import numpy as np \n",
        " \n",
        "list1=[1.0,2.0,3.0,4.0,5.0] \n",
        "npy_array=np.array(list1, dtype=np.float64) \n",
        "#convert list to array(or something like matrix) \n",
        "npy_array.ndim  # get dimension of array \n",
        "a=np.array([[1,2,3],[4,5,6],[7,8,9]], dtype=np.float64) \n",
        "# np.array - like creating matrix \n",
        "a.ndim \n",
        "a.shape \n",
        "a.size   # total elem in an array \n",
        "a.itemsize  # each elem's size(in bytes) \n",
        "a.dtype.name  # get elem data type name \n",
        "type(a)   # <class 'ndarray'> ndim array \n",
        " \n",
        "np.indices((3,5)) # get index matrix for each elem in 3x5 matrix \n",
        " \n"
      ]
    },
    {
      "cell_type": "code",
      "source": [
        "#3. Special Mathematical Arrays \n",
        "import numpy as np \n",
        " \n",
        "np.eye(4)  # get eye matrix  \n",
        "np.identity(3)  # like eye function \n",
        " \n",
        "z = np.zeros((3,4), dtype=int) \n",
        "z = np.ones((3,4), dtype=np.float64) \n",
        " \n",
        "z=np.random.random(()) \n",
        "z=np.random.uniform(-3, 5, (5,6))\n",
        "z  \n",
        "# get 5x6 matrix with random # from -3 to 5 for each elem \n",
        " "
      ],
      "metadata": {
        "id": "YhdTio0_4h47"
      },
      "execution_count": null,
      "outputs": []
    },
    {
      "cell_type": "code",
      "source": [
        "#4. Arrays and Functions for Plotting \n",
        "import numpy as np \n",
        " \n",
        "x=np.linspace(-10,10,201) \n",
        "x1=np.arange(-10.0, 10.0, 0.1) \n",
        "sine=np.sin(x) \n",
        " \n",
        "import matplotlib.pyplot as plt \n",
        " \n",
        "plt.plot(x,sine) \n",
        "plt.show() \n",
        " \n",
        "quad1=x**2 + 2.0*x +5.0 \n",
        "plt.plot(x,quad1) \n",
        "plt.show() \n",
        " \n",
        "def norm_func(x,mean,var): \n",
        "  return 1.0/(var*(2*np.pi)**0.5) * np.exp(-1/2*((x-mean)/var)**2) \n",
        " \n",
        "x=np.arange(-5,5.01,0.05) \n",
        "pdf1=norm_func(x,0,0.2**0.5) \n",
        "pdf2=norm_func(x,0,1.0**0.5) \n",
        "pdf3=norm_func(x,0,5.0**0.5) \n",
        "pdf4=norm_func(x,-2.0,0.5**0.5) \n",
        " \n",
        "plt.plot(x,pdf1,color='blue', label=\"mean={} var^2={}\".format(0,0.2)) \n",
        "plt.plot(x,pdf2,color='red', label=\"mean={} var^2={}\".format(0,1.0)) \n",
        "plt.plot(x,pdf3,color='yellow', label=\"mean={} var^2={}\".format(0,5.0)) \n",
        "plt.plot(x,pdf4,color='green', label=\"mean={} var^2={}\".format(-2.0,0.5)) \n",
        "plt.legend() \n",
        "plt.show() \n"
      ],
      "metadata": {
        "id": "nasjDn0s47aj"
      },
      "execution_count": 4,
      "outputs": []
    },
    {
      "cell_type": "code",
      "source": [
        "#5. Meshgrid in detail for gridded data \n",
        "import numpy as np \n",
        "import matplotlib.pyplot as plt \n",
        " \n",
        "x=np.linspace(-4,4,9) \n",
        "y=np.linspace(-5,5,11) \n",
        " \n",
        "xx,yy=np.meshgrid(x,y)  # create x, y grid matrix \n",
        " \n",
        "xx.shape \n",
        "yy.shape \n",
        " \n",
        "ellipse = xx**2 + 4*yy**4 # \n",
        "plt.contourf(xx,yy,ellipse, cmap='jet') # generate contour line \n",
        "    # 'jet': Red for big value; Blue for small value \n",
        "plt.colorbar()    # create color bar at the side \n",
        "plt.show() \n",
        " \n",
        "random_data=np.random.random((11,9)) \n",
        "plt.contourf(xx,yy,random_data, cmap='jet') # generate contour line \n",
        "    # jet - color seq:blue-cyan-yello-red \n",
        "plt.colorbar()    # create color bar at the side \n",
        "plt.show() \n",
        " \n",
        " \n",
        "xx1,yy1=np.meshgrid(x,y, indexing='ij')  \n",
        "# xx1 is transpose xx; yy1 is transpose yy \n",
        "np.all(xx == xx1.T) # xx1.T - transpose matrix  \n",
        "#True  # if all elem in expression are the same return np.all(yy == yy1.T) \n",
        "#True \n",
        " \n",
        "# e.g.  \n",
        "np.all([1,2] == [1,3]) \n",
        "False \n",
        " "
      ],
      "metadata": {
        "id": "GxGeazp-66Rd"
      },
      "execution_count": null,
      "outputs": []
    },
    {
      "cell_type": "code",
      "source": [
        "#6. mgrid, ogrid, and sparse gridded data arrays \n",
        "import numpy as np \n",
        " \n",
        "x=np.linspace(-4,4,9) \n",
        "y=np.linspace(-5,5,11) \n",
        " \n",
        "xx,yy=np.meshgrid(x,y, sparse=True)  \n",
        "# sparse: change xx/yy format from multi-dim to 1 dim, but it is still mult-dim \n",
        "xx \n",
        "yy \n",
        "xx.shape \n",
        "yy.shape \n",
        " \n",
        "ell=xx**2 + yy**2    # Verify above explanation\n",
        "xm,ym=np.mgrid[-11:12:2.5, -11:12:2.5] # similar as meshgrid, but diff.  \n",
        " \n",
        "xm,ym=np.mgrid[-11:12:5j, -11:12:5j] # 5j - 5 points within the range, not a step \n",
        "xm.shape \n",
        "ym.shape \n",
        " \n",
        "xm,ym=np.ogrid[-11:12:5j, -11:12:5j] # similar as mgrid \n",
        " \n",
        "xg, yg=np.broadcast_arrays(xm,ym)   \n",
        "# make x matrix format follow y matrix format "
      ],
      "metadata": {
        "id": "CzEMjNynFH8N"
      },
      "execution_count": null,
      "outputs": []
    },
    {
      "cell_type": "code",
      "source": [
        "#7. Vector and Matrix Operations \n",
        "import numpy as np \n",
        " \n",
        "A=np.ones((5,3)) \n",
        "B=5*np.ones((5,3)) \n",
        "C=np.random.randint(-5,5,(3,5)) \n",
        " \n",
        "np.multiply(A,B) # elem times elem, not matrix multiplication \n",
        "A/B \n",
        "A+=B \n",
        "A**=B \n",
        "np.sqrt(A) \n",
        "np.power(A,2) \n",
        "np.exp(A) \n",
        " \n",
        "np.dot(A,B.T) \n",
        " \n",
        "a= np.array([[-2, 1, 1],[0,2,0],[-4,1,3]]) \n",
        " \n",
        "print(a.shape) \n",
        "b=np.array([4, 5, 6]) \n",
        "print(b.T.shape) \n",
        "c=np.dot(a,b.T) \n",
        "c.shape  \n",
        "np.linalg.det(a) # determinant \n",
        "np.linalg.inv(a) # inverse matrix \n",
        "eigval, eigvec = np.linalg.eig(a) # a must be square \n",
        "     # return eigen values and eigen vectors \n",
        "# each col in eigvec is each eigval's corresponding vector \n",
        "eigval \n",
        "eigvec "
      ],
      "metadata": {
        "id": "rgr9p6ZU1bCr"
      },
      "execution_count": null,
      "outputs": []
    }
  ]
}